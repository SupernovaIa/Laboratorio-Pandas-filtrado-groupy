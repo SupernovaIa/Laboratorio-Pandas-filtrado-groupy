{
 "cells": [
  {
   "cell_type": "markdown",
   "id": "58d52421",
   "metadata": {},
   "source": [
    "<div style=\"text-align: center;\">\n",
    "  <img src=\"https://github.com/Hack-io-Data/Imagenes/blob/main/01-LogosHackio/logo_naranja@4x.png?raw=true\" alt=\"esquema\" />\n",
    "</div>"
   ]
  },
  {
   "cell_type": "markdown",
   "id": "5976b91e",
   "metadata": {},
   "source": [
    "# Laboratorio Filtrado de Datos\n",
    "\n",
    "En este laboratorio usaremos el DataFrame creado en la lección anterior resultado de la unión de los conjuntos de datos compartidos contigo. \n",
    "\n",
    "**Instrucciones:**\n",
    "\n",
    "1. Lee cuidadosamente el enunciado de cada ejercicio.\n",
    "\n",
    "2. Implementa la solución en la celda de código proporcionada."
   ]
  },
  {
   "cell_type": "code",
   "execution_count": 1,
   "id": "07a59611",
   "metadata": {},
   "outputs": [],
   "source": [
    "import pandas as pd\n",
    "import numpy as np\n",
    "\n",
    "pd.set_option('display.max_columns', None) # para poder visualizar todas las columnas de los DataFrames"
   ]
  },
  {
   "cell_type": "code",
   "execution_count": 3,
   "id": "f33d92ae",
   "metadata": {},
   "outputs": [],
   "source": [
    "# Carga el dataset de trabajo\n",
    "\n",
    "df = pd.read_csv('combined_netflix.csv')"
   ]
  },
  {
   "cell_type": "code",
   "execution_count": 10,
   "id": "6240a7be",
   "metadata": {},
   "outputs": [],
   "source": [
    "df.drop('Unnamed: 0', axis = 1, inplace = True)"
   ]
  },
  {
   "cell_type": "code",
   "execution_count": 11,
   "id": "d4a273cb",
   "metadata": {},
   "outputs": [
    {
     "data": {
      "text/html": [
       "<div>\n",
       "<style scoped>\n",
       "    .dataframe tbody tr th:only-of-type {\n",
       "        vertical-align: middle;\n",
       "    }\n",
       "\n",
       "    .dataframe tbody tr th {\n",
       "        vertical-align: top;\n",
       "    }\n",
       "\n",
       "    .dataframe thead th {\n",
       "        text-align: right;\n",
       "    }\n",
       "</style>\n",
       "<table border=\"1\" class=\"dataframe\">\n",
       "  <thead>\n",
       "    <tr style=\"text-align: right;\">\n",
       "      <th></th>\n",
       "      <th>Genre</th>\n",
       "      <th>Runtime</th>\n",
       "      <th>IMDB Score</th>\n",
       "      <th>Language</th>\n",
       "      <th>type</th>\n",
       "      <th>title</th>\n",
       "      <th>director</th>\n",
       "      <th>cast</th>\n",
       "      <th>country</th>\n",
       "      <th>date_added</th>\n",
       "      <th>release_year</th>\n",
       "      <th>rating</th>\n",
       "      <th>duration</th>\n",
       "      <th>listed_in</th>\n",
       "      <th>description</th>\n",
       "    </tr>\n",
       "  </thead>\n",
       "  <tbody>\n",
       "    <tr>\n",
       "      <th>3226</th>\n",
       "      <td>NaN</td>\n",
       "      <td>NaN</td>\n",
       "      <td>NaN</td>\n",
       "      <td>NaN</td>\n",
       "      <td>Movie</td>\n",
       "      <td>The Body Remembers When the World Broke Open</td>\n",
       "      <td>Elle-Máijá Tailfeathers, Kathleen Hepburn</td>\n",
       "      <td>Violet Nelson, Elle-Máijá Tailfeathers, Charli...</td>\n",
       "      <td>Canada, Norway</td>\n",
       "      <td>November 27, 2019</td>\n",
       "      <td>2019</td>\n",
       "      <td>TV-MA</td>\n",
       "      <td>NaN</td>\n",
       "      <td>Dramas, Independent Movies</td>\n",
       "      <td>After a traumatic event, two Indigenous women ...</td>\n",
       "    </tr>\n",
       "  </tbody>\n",
       "</table>\n",
       "</div>"
      ],
      "text/plain": [
       "     Genre  Runtime  IMDB Score Language   type  \\\n",
       "3226   NaN      NaN         NaN      NaN  Movie   \n",
       "\n",
       "                                             title  \\\n",
       "3226  The Body Remembers When the World Broke Open   \n",
       "\n",
       "                                       director  \\\n",
       "3226  Elle-Máijá Tailfeathers, Kathleen Hepburn   \n",
       "\n",
       "                                                   cast         country  \\\n",
       "3226  Violet Nelson, Elle-Máijá Tailfeathers, Charli...  Canada, Norway   \n",
       "\n",
       "             date_added  release_year rating duration  \\\n",
       "3226  November 27, 2019          2019  TV-MA      NaN   \n",
       "\n",
       "                       listed_in  \\\n",
       "3226  Dramas, Independent Movies   \n",
       "\n",
       "                                            description  \n",
       "3226  After a traumatic event, two Indigenous women ...  "
      ]
     },
     "execution_count": 11,
     "metadata": {},
     "output_type": "execute_result"
    }
   ],
   "source": [
    "df.sample()"
   ]
  },
  {
   "cell_type": "markdown",
   "id": "baef3e35",
   "metadata": {},
   "source": [
    "#### Ejercicio 1: ¿Cuáles son todos los títulos lanzados en 2021 que son del tipo 'Movie'?"
   ]
  },
  {
   "cell_type": "code",
   "execution_count": 23,
   "id": "d53e9422",
   "metadata": {},
   "outputs": [
    {
     "data": {
      "text/plain": [
       "6     My Little Pony: A New Generation\n",
       "9                         The Starling\n",
       "12                        Je Suis Karl\n",
       "13    Confessions of an Invisible Girl\n",
       "18                           Intrusion\n",
       "Name: title, dtype: object"
      ]
     },
     "execution_count": 23,
     "metadata": {},
     "output_type": "execute_result"
    }
   ],
   "source": [
    "filtro1 = (df['type'] == 'Movie') & (df['release_year'] == 2021)\n",
    "\n",
    "df[filtro1]['title'].head()"
   ]
  },
  {
   "cell_type": "markdown",
   "id": "e0bc11c3",
   "metadata": {},
   "source": [
    "#### Ejercicio 2: ¿Qué títulos tienen una duración de 90 minutos? Muestra solo las columnas de título y de duración."
   ]
  },
  {
   "cell_type": "code",
   "execution_count": 20,
   "id": "8ba93e4d",
   "metadata": {},
   "outputs": [
    {
     "data": {
      "text/html": [
       "<div>\n",
       "<style scoped>\n",
       "    .dataframe tbody tr th:only-of-type {\n",
       "        vertical-align: middle;\n",
       "    }\n",
       "\n",
       "    .dataframe tbody tr th {\n",
       "        vertical-align: top;\n",
       "    }\n",
       "\n",
       "    .dataframe thead th {\n",
       "        text-align: right;\n",
       "    }\n",
       "</style>\n",
       "<table border=\"1\" class=\"dataframe\">\n",
       "  <thead>\n",
       "    <tr style=\"text-align: right;\">\n",
       "      <th></th>\n",
       "      <th>title</th>\n",
       "      <th>duration</th>\n",
       "    </tr>\n",
       "  </thead>\n",
       "  <tbody>\n",
       "    <tr>\n",
       "      <th>0</th>\n",
       "      <td>Dick Johnson Is Dead</td>\n",
       "      <td>90 min</td>\n",
       "    </tr>\n",
       "    <tr>\n",
       "      <th>94</th>\n",
       "      <td>Show Dogs</td>\n",
       "      <td>90 min</td>\n",
       "    </tr>\n",
       "    <tr>\n",
       "      <th>107</th>\n",
       "      <td>A Champion Heart</td>\n",
       "      <td>90 min</td>\n",
       "    </tr>\n",
       "    <tr>\n",
       "      <th>229</th>\n",
       "      <td>The Old Ways</td>\n",
       "      <td>90 min</td>\n",
       "    </tr>\n",
       "    <tr>\n",
       "      <th>283</th>\n",
       "      <td>Misha and the Wolves</td>\n",
       "      <td>90 min</td>\n",
       "    </tr>\n",
       "  </tbody>\n",
       "</table>\n",
       "</div>"
      ],
      "text/plain": [
       "                    title duration\n",
       "0    Dick Johnson Is Dead   90 min\n",
       "94              Show Dogs   90 min\n",
       "107      A Champion Heart   90 min\n",
       "229          The Old Ways   90 min\n",
       "283  Misha and the Wolves   90 min"
      ]
     },
     "execution_count": 20,
     "metadata": {},
     "output_type": "execute_result"
    }
   ],
   "source": [
    "filtro2 = (df['duration'] == '90 min')\n",
    "\n",
    "df[filtro2][['title', 'duration']].head()"
   ]
  },
  {
   "cell_type": "markdown",
   "id": "9e10b8ff",
   "metadata": {},
   "source": [
    "#### Ejercicio 3: ¿Cuáles son todos los títulos del país 'India' lanzados después de 2018?"
   ]
  },
  {
   "cell_type": "code",
   "execution_count": 22,
   "id": "7de490ce",
   "metadata": {},
   "outputs": [
    {
     "data": {
      "text/plain": [
       "4              Kota Factory\n",
       "39             Chhota Bheem\n",
       "126                 Shikara\n",
       "190              Thimmarusu\n",
       "266    The Creative Indians\n",
       "Name: title, dtype: object"
      ]
     },
     "execution_count": 22,
     "metadata": {},
     "output_type": "execute_result"
    }
   ],
   "source": [
    "filtro3 = (df['country'] == 'India') & (df['release_year'] > 2018)\n",
    "\n",
    "df[filtro3]['title'].head()"
   ]
  },
  {
   "cell_type": "markdown",
   "id": "4e881098",
   "metadata": {},
   "source": [
    "#### Ejercicio 4: ¿Qué títulos tienen clasificación 'TV-14' o 'R'?"
   ]
  },
  {
   "cell_type": "code",
   "execution_count": 31,
   "id": "79cc1fbe",
   "metadata": {},
   "outputs": [
    {
     "data": {
      "text/html": [
       "<div>\n",
       "<style scoped>\n",
       "    .dataframe tbody tr th:only-of-type {\n",
       "        vertical-align: middle;\n",
       "    }\n",
       "\n",
       "    .dataframe tbody tr th {\n",
       "        vertical-align: top;\n",
       "    }\n",
       "\n",
       "    .dataframe thead th {\n",
       "        text-align: right;\n",
       "    }\n",
       "</style>\n",
       "<table border=\"1\" class=\"dataframe\">\n",
       "  <thead>\n",
       "    <tr style=\"text-align: right;\">\n",
       "      <th></th>\n",
       "      <th>title</th>\n",
       "      <th>rating</th>\n",
       "    </tr>\n",
       "  </thead>\n",
       "  <tbody>\n",
       "    <tr>\n",
       "      <th>8</th>\n",
       "      <td>The Great British Baking Show</td>\n",
       "      <td>TV-14</td>\n",
       "    </tr>\n",
       "    <tr>\n",
       "      <th>18</th>\n",
       "      <td>Intrusion</td>\n",
       "      <td>TV-14</td>\n",
       "    </tr>\n",
       "    <tr>\n",
       "      <th>20</th>\n",
       "      <td>Monsters Inside: The 24 Faces of Billy Milligan</td>\n",
       "      <td>TV-14</td>\n",
       "    </tr>\n",
       "    <tr>\n",
       "      <th>21</th>\n",
       "      <td>Resurrection: Ertugrul</td>\n",
       "      <td>TV-14</td>\n",
       "    </tr>\n",
       "    <tr>\n",
       "      <th>24</th>\n",
       "      <td>Jeans</td>\n",
       "      <td>TV-14</td>\n",
       "    </tr>\n",
       "  </tbody>\n",
       "</table>\n",
       "</div>"
      ],
      "text/plain": [
       "                                              title rating\n",
       "8                     The Great British Baking Show  TV-14\n",
       "18                                        Intrusion  TV-14\n",
       "20  Monsters Inside: The 24 Faces of Billy Milligan  TV-14\n",
       "21                           Resurrection: Ertugrul  TV-14\n",
       "24                                            Jeans  TV-14"
      ]
     },
     "execution_count": 31,
     "metadata": {},
     "output_type": "execute_result"
    }
   ],
   "source": [
    "filtro4 = (df['rating'] == 'TV-14') | (df['rating'] == 'R')\n",
    "\n",
    "df[filtro4][['title','rating']].head()"
   ]
  },
  {
   "cell_type": "markdown",
   "id": "5367bf08",
   "metadata": {},
   "source": [
    "#### Ejercicio 5: ¿Cuáles son los títulos dirigidos por 'Christopher Nolan' o 'Martin Scorsese'? ¿Cuántos a dirigido cada uno de los directores?"
   ]
  },
  {
   "cell_type": "code",
   "execution_count": 38,
   "id": "e0562310",
   "metadata": {},
   "outputs": [
    {
     "data": {
      "text/html": [
       "<div>\n",
       "<style scoped>\n",
       "    .dataframe tbody tr th:only-of-type {\n",
       "        vertical-align: middle;\n",
       "    }\n",
       "\n",
       "    .dataframe tbody tr th {\n",
       "        vertical-align: top;\n",
       "    }\n",
       "\n",
       "    .dataframe thead th {\n",
       "        text-align: right;\n",
       "    }\n",
       "</style>\n",
       "<table border=\"1\" class=\"dataframe\">\n",
       "  <thead>\n",
       "    <tr style=\"text-align: right;\">\n",
       "      <th></th>\n",
       "      <th>title</th>\n",
       "      <th>director</th>\n",
       "    </tr>\n",
       "  </thead>\n",
       "  <tbody>\n",
       "    <tr>\n",
       "      <th>340</th>\n",
       "      <td>Inception</td>\n",
       "      <td>Christopher Nolan</td>\n",
       "    </tr>\n",
       "    <tr>\n",
       "      <th>1358</th>\n",
       "      <td>Shutter Island</td>\n",
       "      <td>Martin Scorsese</td>\n",
       "    </tr>\n",
       "    <tr>\n",
       "      <th>2632</th>\n",
       "      <td>No Direction Home: Bob Dylan</td>\n",
       "      <td>Martin Scorsese</td>\n",
       "    </tr>\n",
       "    <tr>\n",
       "      <th>2860</th>\n",
       "      <td>Hugo</td>\n",
       "      <td>Martin Scorsese</td>\n",
       "    </tr>\n",
       "    <tr>\n",
       "      <th>3227</th>\n",
       "      <td>The Irishman</td>\n",
       "      <td>Martin Scorsese</td>\n",
       "    </tr>\n",
       "  </tbody>\n",
       "</table>\n",
       "</div>"
      ],
      "text/plain": [
       "                             title           director\n",
       "340                      Inception  Christopher Nolan\n",
       "1358                Shutter Island    Martin Scorsese\n",
       "2632  No Direction Home: Bob Dylan    Martin Scorsese\n",
       "2860                          Hugo    Martin Scorsese\n",
       "3227                  The Irishman    Martin Scorsese"
      ]
     },
     "execution_count": 38,
     "metadata": {},
     "output_type": "execute_result"
    }
   ],
   "source": [
    "filtro5 = (df['director'] == 'Christopher Nolan') | (df['director'] == 'Martin Scorsese')\n",
    "\n",
    "df[filtro5][['title', 'director']].head()"
   ]
  },
  {
   "cell_type": "markdown",
   "id": "fc0c621e",
   "metadata": {},
   "source": [
    "#### Ejercicio 6: ¿Qué títulos pertenecen a los países 'United States', 'United Kingdom' o 'Canada'? Dentro de estos países, ¿cuántas películas tienen más de un lenguaje?"
   ]
  },
  {
   "cell_type": "code",
   "execution_count": 82,
   "id": "397619a4",
   "metadata": {},
   "outputs": [
    {
     "data": {
      "text/html": [
       "<div>\n",
       "<style scoped>\n",
       "    .dataframe tbody tr th:only-of-type {\n",
       "        vertical-align: middle;\n",
       "    }\n",
       "\n",
       "    .dataframe tbody tr th {\n",
       "        vertical-align: top;\n",
       "    }\n",
       "\n",
       "    .dataframe thead th {\n",
       "        text-align: right;\n",
       "    }\n",
       "</style>\n",
       "<table border=\"1\" class=\"dataframe\">\n",
       "  <thead>\n",
       "    <tr style=\"text-align: right;\">\n",
       "      <th></th>\n",
       "      <th>title</th>\n",
       "      <th>Language</th>\n",
       "    </tr>\n",
       "  </thead>\n",
       "  <tbody>\n",
       "    <tr>\n",
       "      <th>0</th>\n",
       "      <td>Dick Johnson Is Dead</td>\n",
       "      <td>English</td>\n",
       "    </tr>\n",
       "    <tr>\n",
       "      <th>8</th>\n",
       "      <td>The Great British Baking Show</td>\n",
       "      <td>NaN</td>\n",
       "    </tr>\n",
       "    <tr>\n",
       "      <th>9</th>\n",
       "      <td>The Starling</td>\n",
       "      <td>NaN</td>\n",
       "    </tr>\n",
       "    <tr>\n",
       "      <th>15</th>\n",
       "      <td>Dear White People</td>\n",
       "      <td>NaN</td>\n",
       "    </tr>\n",
       "    <tr>\n",
       "      <th>27</th>\n",
       "      <td>Grown Ups</td>\n",
       "      <td>NaN</td>\n",
       "    </tr>\n",
       "  </tbody>\n",
       "</table>\n",
       "</div>"
      ],
      "text/plain": [
       "                            title Language\n",
       "0            Dick Johnson Is Dead  English\n",
       "8   The Great British Baking Show      NaN\n",
       "9                    The Starling      NaN\n",
       "15              Dear White People      NaN\n",
       "27                      Grown Ups      NaN"
      ]
     },
     "execution_count": 82,
     "metadata": {},
     "output_type": "execute_result"
    }
   ],
   "source": [
    "# Filtro que toma los países mencionados\n",
    "lista_paises = ['United States', 'United Kingdom', 'Canada']\n",
    "filtro6 = df['country'].isin(lista_paises)\n",
    "# Almacenamos el dataframe\n",
    "df_anglo = df[filtro6][['title', 'Language']]\n",
    "df_anglo.head()"
   ]
  },
  {
   "cell_type": "code",
   "execution_count": 101,
   "id": "15b5d599",
   "metadata": {},
   "outputs": [
    {
     "data": {
      "text/plain": [
       "array(['English', nan, 'English/Arabic', 'Spanish/English',\n",
       "       'English/Taiwanese/Mandarin', 'French', 'Portuguese', 'Japanese',\n",
       "       'Spanish', 'English/Spanish', 'English/Hindi', 'English/Japanese',\n",
       "       'English/Mandarin', 'English/Russian', 'English/Akan'],\n",
       "      dtype=object)"
      ]
     },
     "execution_count": 101,
     "metadata": {},
     "output_type": "execute_result"
    }
   ],
   "source": [
    "# Comprobamos qué entradas de lenguaje hay\n",
    "df[filtro6]['Language'].unique()"
   ]
  },
  {
   "cell_type": "code",
   "execution_count": 103,
   "id": "ed3b4055",
   "metadata": {},
   "outputs": [
    {
     "data": {
      "text/plain": [
       "title       10\n",
       "Language    10\n",
       "dtype: int64"
      ]
     },
     "execution_count": 103,
     "metadata": {},
     "output_type": "execute_result"
    }
   ],
   "source": [
    "# Más de un lenguaje SI Y SOLO SI hay una barra /\n",
    "filtro_varios_lenguajes = df_anglo['Language'].str.contains(r'\\/', na=False)\n",
    "# Contamos cuántos hay\n",
    "df_anglo[filtro_varios_lenguajes].count()"
   ]
  },
  {
   "cell_type": "markdown",
   "id": "6e36f1ba",
   "metadata": {},
   "source": [
    "#### Ejercicio 7: ¿Qué títulos fueron lanzados entre 2015 y 2020, inclusive?"
   ]
  },
  {
   "cell_type": "code",
   "execution_count": 106,
   "id": "f91a0707",
   "metadata": {},
   "outputs": [
    {
     "data": {
      "text/html": [
       "<div>\n",
       "<style scoped>\n",
       "    .dataframe tbody tr th:only-of-type {\n",
       "        vertical-align: middle;\n",
       "    }\n",
       "\n",
       "    .dataframe tbody tr th {\n",
       "        vertical-align: top;\n",
       "    }\n",
       "\n",
       "    .dataframe thead th {\n",
       "        text-align: right;\n",
       "    }\n",
       "</style>\n",
       "<table border=\"1\" class=\"dataframe\">\n",
       "  <thead>\n",
       "    <tr style=\"text-align: right;\">\n",
       "      <th></th>\n",
       "      <th>title</th>\n",
       "      <th>release_year</th>\n",
       "    </tr>\n",
       "  </thead>\n",
       "  <tbody>\n",
       "    <tr>\n",
       "      <th>0</th>\n",
       "      <td>Dick Johnson Is Dead</td>\n",
       "      <td>2020</td>\n",
       "    </tr>\n",
       "    <tr>\n",
       "      <th>16</th>\n",
       "      <td>Europe's Most Dangerous Man: Otto Skorzeny in ...</td>\n",
       "      <td>2020</td>\n",
       "    </tr>\n",
       "    <tr>\n",
       "      <th>17</th>\n",
       "      <td>Falsa identidad</td>\n",
       "      <td>2020</td>\n",
       "    </tr>\n",
       "    <tr>\n",
       "      <th>21</th>\n",
       "      <td>Resurrection: Ertugrul</td>\n",
       "      <td>2018</td>\n",
       "    </tr>\n",
       "    <tr>\n",
       "      <th>32</th>\n",
       "      <td>Sex Education</td>\n",
       "      <td>2020</td>\n",
       "    </tr>\n",
       "  </tbody>\n",
       "</table>\n",
       "</div>"
      ],
      "text/plain": [
       "                                                title  release_year\n",
       "0                                Dick Johnson Is Dead          2020\n",
       "16  Europe's Most Dangerous Man: Otto Skorzeny in ...          2020\n",
       "17                                    Falsa identidad          2020\n",
       "21                             Resurrection: Ertugrul          2018\n",
       "32                                      Sex Education          2020"
      ]
     },
     "execution_count": 106,
     "metadata": {},
     "output_type": "execute_result"
    }
   ],
   "source": [
    "filtro7 = df['release_year'].between(2015, 2020, inclusive='both')\n",
    "\n",
    "df[filtro7][['title', 'release_year']].head()"
   ]
  },
  {
   "cell_type": "markdown",
   "id": "8ad3dbc3",
   "metadata": {},
   "source": [
    "#### Ejercicio 8: ¿Cuáles son los títulos cuya puntuación en IMDb está entre 6.5 y 8.0 y que no sepamos cual es su duración?"
   ]
  },
  {
   "cell_type": "code",
   "execution_count": 117,
   "id": "08b9c8a1",
   "metadata": {},
   "outputs": [
    {
     "data": {
      "text/html": [
       "<div>\n",
       "<style scoped>\n",
       "    .dataframe tbody tr th:only-of-type {\n",
       "        vertical-align: middle;\n",
       "    }\n",
       "\n",
       "    .dataframe tbody tr th {\n",
       "        vertical-align: top;\n",
       "    }\n",
       "\n",
       "    .dataframe thead th {\n",
       "        text-align: right;\n",
       "    }\n",
       "</style>\n",
       "<table border=\"1\" class=\"dataframe\">\n",
       "  <thead>\n",
       "    <tr style=\"text-align: right;\">\n",
       "      <th></th>\n",
       "      <th>title</th>\n",
       "      <th>IMDB Score</th>\n",
       "      <th>duration</th>\n",
       "    </tr>\n",
       "  </thead>\n",
       "  <tbody>\n",
       "    <tr>\n",
       "      <th>834</th>\n",
       "      <td>Blue Miracle</td>\n",
       "      <td>6.7</td>\n",
       "      <td>NaN</td>\n",
       "    </tr>\n",
       "    <tr>\n",
       "      <th>895</th>\n",
       "      <td>Oxygen</td>\n",
       "      <td>6.5</td>\n",
       "      <td>NaN</td>\n",
       "    </tr>\n",
       "    <tr>\n",
       "      <th>910</th>\n",
       "      <td>Monster</td>\n",
       "      <td>6.5</td>\n",
       "      <td>NaN</td>\n",
       "    </tr>\n",
       "    <tr>\n",
       "      <th>1024</th>\n",
       "      <td>Arlo the Alligator Boy</td>\n",
       "      <td>6.7</td>\n",
       "      <td>NaN</td>\n",
       "    </tr>\n",
       "    <tr>\n",
       "      <th>1157</th>\n",
       "      <td>Bad Trip</td>\n",
       "      <td>6.6</td>\n",
       "      <td>NaN</td>\n",
       "    </tr>\n",
       "  </tbody>\n",
       "</table>\n",
       "</div>"
      ],
      "text/plain": [
       "                       title  IMDB Score duration\n",
       "834             Blue Miracle         6.7      NaN\n",
       "895                   Oxygen         6.5      NaN\n",
       "910                  Monster         6.5      NaN\n",
       "1024  Arlo the Alligator Boy         6.7      NaN\n",
       "1157                Bad Trip         6.6      NaN"
      ]
     },
     "execution_count": 117,
     "metadata": {},
     "output_type": "execute_result"
    }
   ],
   "source": [
    "# No saber la duración es df['duration'].isna()\n",
    "filtro8 = (df['IMDB Score'].between(6.5, 8.0, inclusive='both')) & (df['duration'].isna())\n",
    "\n",
    "df[filtro8][['title', 'IMDB Score', 'duration']].head()"
   ]
  },
  {
   "cell_type": "markdown",
   "id": "0afd742e",
   "metadata": {},
   "source": [
    "#### Ejercicio 9: ¿Cuáles son las películas cuya duración de 90 y 150 minutos?"
   ]
  },
  {
   "cell_type": "code",
   "execution_count": 123,
   "id": "80d4c76d",
   "metadata": {},
   "outputs": [
    {
     "data": {
      "text/html": [
       "<div>\n",
       "<style scoped>\n",
       "    .dataframe tbody tr th:only-of-type {\n",
       "        vertical-align: middle;\n",
       "    }\n",
       "\n",
       "    .dataframe tbody tr th {\n",
       "        vertical-align: top;\n",
       "    }\n",
       "\n",
       "    .dataframe thead th {\n",
       "        text-align: right;\n",
       "    }\n",
       "</style>\n",
       "<table border=\"1\" class=\"dataframe\">\n",
       "  <thead>\n",
       "    <tr style=\"text-align: right;\">\n",
       "      <th></th>\n",
       "      <th>title</th>\n",
       "      <th>IMDB Score</th>\n",
       "      <th>duration</th>\n",
       "    </tr>\n",
       "  </thead>\n",
       "  <tbody>\n",
       "    <tr>\n",
       "      <th>0</th>\n",
       "      <td>Dick Johnson Is Dead</td>\n",
       "      <td>7.5</td>\n",
       "      <td>90 min</td>\n",
       "    </tr>\n",
       "    <tr>\n",
       "      <th>94</th>\n",
       "      <td>Show Dogs</td>\n",
       "      <td>NaN</td>\n",
       "      <td>90 min</td>\n",
       "    </tr>\n",
       "    <tr>\n",
       "      <th>107</th>\n",
       "      <td>A Champion Heart</td>\n",
       "      <td>NaN</td>\n",
       "      <td>90 min</td>\n",
       "    </tr>\n",
       "    <tr>\n",
       "      <th>205</th>\n",
       "      <td>Kyo Kii... Main Jhuth Nahin Bolta</td>\n",
       "      <td>NaN</td>\n",
       "      <td>150 min</td>\n",
       "    </tr>\n",
       "    <tr>\n",
       "      <th>229</th>\n",
       "      <td>The Old Ways</td>\n",
       "      <td>NaN</td>\n",
       "      <td>90 min</td>\n",
       "    </tr>\n",
       "  </tbody>\n",
       "</table>\n",
       "</div>"
      ],
      "text/plain": [
       "                                 title  IMDB Score duration\n",
       "0                 Dick Johnson Is Dead         7.5   90 min\n",
       "94                           Show Dogs         NaN   90 min\n",
       "107                   A Champion Heart         NaN   90 min\n",
       "205  Kyo Kii... Main Jhuth Nahin Bolta         NaN  150 min\n",
       "229                       The Old Ways         NaN   90 min"
      ]
     },
     "execution_count": 123,
     "metadata": {},
     "output_type": "execute_result"
    }
   ],
   "source": [
    "filtro9 = (df['duration'] == '90 min') | (df['duration'] == '150 min')\n",
    "\n",
    "df[filtro9][['title', 'IMDB Score', 'duration']].head()"
   ]
  },
  {
   "cell_type": "markdown",
   "id": "258a99d3",
   "metadata": {},
   "source": [
    "#### Ejercicio 10: ¿Cuáles son los títulos que contienen la palabra 'Love' en su título y que sean de tipo TV Show?"
   ]
  },
  {
   "cell_type": "code",
   "execution_count": 137,
   "id": "8daf2abc",
   "metadata": {},
   "outputs": [
    {
     "data": {
      "text/html": [
       "<div>\n",
       "<style scoped>\n",
       "    .dataframe tbody tr th:only-of-type {\n",
       "        vertical-align: middle;\n",
       "    }\n",
       "\n",
       "    .dataframe tbody tr th {\n",
       "        vertical-align: top;\n",
       "    }\n",
       "\n",
       "    .dataframe thead th {\n",
       "        text-align: right;\n",
       "    }\n",
       "</style>\n",
       "<table border=\"1\" class=\"dataframe\">\n",
       "  <thead>\n",
       "    <tr style=\"text-align: right;\">\n",
       "      <th></th>\n",
       "      <th>title</th>\n",
       "      <th>type</th>\n",
       "    </tr>\n",
       "  </thead>\n",
       "  <tbody>\n",
       "    <tr>\n",
       "      <th>25</th>\n",
       "      <td>Love on the Spectrum</td>\n",
       "      <td>TV Show</td>\n",
       "    </tr>\n",
       "    <tr>\n",
       "      <th>659</th>\n",
       "      <td>Bangkok Love Stories: Innocence</td>\n",
       "      <td>TV Show</td>\n",
       "    </tr>\n",
       "    <tr>\n",
       "      <th>731</th>\n",
       "      <td>Love (ft. Marriage and Divorce)</td>\n",
       "      <td>TV Show</td>\n",
       "    </tr>\n",
       "    <tr>\n",
       "      <th>883</th>\n",
       "      <td>Love, Death &amp; Robots</td>\n",
       "      <td>TV Show</td>\n",
       "    </tr>\n",
       "    <tr>\n",
       "      <th>1032</th>\n",
       "      <td>Love Naggers</td>\n",
       "      <td>TV Show</td>\n",
       "    </tr>\n",
       "  </tbody>\n",
       "</table>\n",
       "</div>"
      ],
      "text/plain": [
       "                                title     type\n",
       "25               Love on the Spectrum  TV Show\n",
       "659   Bangkok Love Stories: Innocence  TV Show\n",
       "731   Love (ft. Marriage and Divorce)  TV Show\n",
       "883              Love, Death & Robots  TV Show\n",
       "1032                     Love Naggers  TV Show"
      ]
     },
     "execution_count": 137,
     "metadata": {},
     "output_type": "execute_result"
    }
   ],
   "source": [
    "filtro10 = (df['title'].str.contains(r'\\b[L|l]ove', na=False)) & (df['type'] == 'TV Show')\n",
    "\n",
    "df[filtro10][['title', 'type']].head()"
   ]
  },
  {
   "cell_type": "markdown",
   "id": "e08091e9",
   "metadata": {},
   "source": [
    "#### Ejercicio 11: ¿Cuáles son los títulos en los que el director tiene el apellido 'Johnson'?"
   ]
  },
  {
   "cell_type": "code",
   "execution_count": 142,
   "id": "a8215bbb",
   "metadata": {},
   "outputs": [
    {
     "data": {
      "text/html": [
       "<div>\n",
       "<style scoped>\n",
       "    .dataframe tbody tr th:only-of-type {\n",
       "        vertical-align: middle;\n",
       "    }\n",
       "\n",
       "    .dataframe tbody tr th {\n",
       "        vertical-align: top;\n",
       "    }\n",
       "\n",
       "    .dataframe thead th {\n",
       "        text-align: right;\n",
       "    }\n",
       "</style>\n",
       "<table border=\"1\" class=\"dataframe\">\n",
       "  <thead>\n",
       "    <tr style=\"text-align: right;\">\n",
       "      <th></th>\n",
       "      <th>title</th>\n",
       "      <th>director</th>\n",
       "    </tr>\n",
       "  </thead>\n",
       "  <tbody>\n",
       "    <tr>\n",
       "      <th>0</th>\n",
       "      <td>Dick Johnson Is Dead</td>\n",
       "      <td>Kirsten Johnson</td>\n",
       "    </tr>\n",
       "    <tr>\n",
       "      <th>829</th>\n",
       "      <td>Dog Gone Trouble</td>\n",
       "      <td>Kevin Johnson</td>\n",
       "    </tr>\n",
       "    <tr>\n",
       "      <th>846</th>\n",
       "      <td>Home</td>\n",
       "      <td>Tim Johnson</td>\n",
       "    </tr>\n",
       "    <tr>\n",
       "      <th>2052</th>\n",
       "      <td>Love, Guaranteed</td>\n",
       "      <td>Mark Steven Johnson</td>\n",
       "    </tr>\n",
       "    <tr>\n",
       "      <th>2083</th>\n",
       "      <td>The Debt Collector 2</td>\n",
       "      <td>Jesse V. Johnson</td>\n",
       "    </tr>\n",
       "  </tbody>\n",
       "</table>\n",
       "</div>"
      ],
      "text/plain": [
       "                     title             director\n",
       "0     Dick Johnson Is Dead      Kirsten Johnson\n",
       "829       Dog Gone Trouble        Kevin Johnson\n",
       "846                   Home          Tim Johnson\n",
       "2052      Love, Guaranteed  Mark Steven Johnson\n",
       "2083  The Debt Collector 2     Jesse V. Johnson"
      ]
     },
     "execution_count": 142,
     "metadata": {},
     "output_type": "execute_result"
    }
   ],
   "source": [
    "filtro11 = (df['director'].str.contains(r'\\b[J|j]ohnson', na=False))\n",
    "\n",
    "df[filtro11][['title', 'director']].head()"
   ]
  },
  {
   "cell_type": "markdown",
   "id": "d5bb45ff",
   "metadata": {},
   "source": [
    "#### Ejercicio 12: ¿Tenemos algún documental ('Documentaries') de Mike Tyson?"
   ]
  },
  {
   "cell_type": "code",
   "execution_count": 175,
   "id": "ed7861c2",
   "metadata": {},
   "outputs": [
    {
     "data": {
      "text/html": [
       "<div>\n",
       "<style scoped>\n",
       "    .dataframe tbody tr th:only-of-type {\n",
       "        vertical-align: middle;\n",
       "    }\n",
       "\n",
       "    .dataframe tbody tr th {\n",
       "        vertical-align: top;\n",
       "    }\n",
       "\n",
       "    .dataframe thead th {\n",
       "        text-align: right;\n",
       "    }\n",
       "</style>\n",
       "<table border=\"1\" class=\"dataframe\">\n",
       "  <thead>\n",
       "    <tr style=\"text-align: right;\">\n",
       "      <th></th>\n",
       "      <th>title</th>\n",
       "      <th>director</th>\n",
       "      <th>listed_in</th>\n",
       "    </tr>\n",
       "  </thead>\n",
       "  <tbody>\n",
       "  </tbody>\n",
       "</table>\n",
       "</div>"
      ],
      "text/plain": [
       "Empty DataFrame\n",
       "Columns: [title, director, listed_in]\n",
       "Index: []"
      ]
     },
     "execution_count": 175,
     "metadata": {},
     "output_type": "execute_result"
    }
   ],
   "source": [
    "filtro12 = (df['director'].str.contains(r'Mike Tyson', na=False)) #& (df['listed_in'].str.contains(r'Documentaries' , na=False))\n",
    "\n",
    "df[filtro12][['title', 'director', 'listed_in']].head()\n",
    "# No hay nignuno. De hecho no hay nada de Mike Tyson"
   ]
  },
  {
   "cell_type": "markdown",
   "id": "2bbf4131",
   "metadata": {},
   "source": [
    "#### Ejercicio 13: Selecciona solo las columnas 'title', 'country' y 'release_year' del dataset."
   ]
  },
  {
   "cell_type": "code",
   "execution_count": 153,
   "id": "eda1fd35",
   "metadata": {},
   "outputs": [
    {
     "data": {
      "text/html": [
       "<div>\n",
       "<style scoped>\n",
       "    .dataframe tbody tr th:only-of-type {\n",
       "        vertical-align: middle;\n",
       "    }\n",
       "\n",
       "    .dataframe tbody tr th {\n",
       "        vertical-align: top;\n",
       "    }\n",
       "\n",
       "    .dataframe thead th {\n",
       "        text-align: right;\n",
       "    }\n",
       "</style>\n",
       "<table border=\"1\" class=\"dataframe\">\n",
       "  <thead>\n",
       "    <tr style=\"text-align: right;\">\n",
       "      <th></th>\n",
       "      <th>title</th>\n",
       "      <th>country</th>\n",
       "      <th>release_year</th>\n",
       "    </tr>\n",
       "  </thead>\n",
       "  <tbody>\n",
       "    <tr>\n",
       "      <th>0</th>\n",
       "      <td>Dick Johnson Is Dead</td>\n",
       "      <td>United States</td>\n",
       "      <td>2020</td>\n",
       "    </tr>\n",
       "    <tr>\n",
       "      <th>1</th>\n",
       "      <td>Blood &amp; Water</td>\n",
       "      <td>South Africa</td>\n",
       "      <td>2021</td>\n",
       "    </tr>\n",
       "    <tr>\n",
       "      <th>2</th>\n",
       "      <td>Ganglands</td>\n",
       "      <td>NaN</td>\n",
       "      <td>2021</td>\n",
       "    </tr>\n",
       "    <tr>\n",
       "      <th>3</th>\n",
       "      <td>Jailbirds New Orleans</td>\n",
       "      <td>NaN</td>\n",
       "      <td>2021</td>\n",
       "    </tr>\n",
       "    <tr>\n",
       "      <th>4</th>\n",
       "      <td>Kota Factory</td>\n",
       "      <td>India</td>\n",
       "      <td>2021</td>\n",
       "    </tr>\n",
       "  </tbody>\n",
       "</table>\n",
       "</div>"
      ],
      "text/plain": [
       "                   title        country  release_year\n",
       "0   Dick Johnson Is Dead  United States          2020\n",
       "1          Blood & Water   South Africa          2021\n",
       "2              Ganglands            NaN          2021\n",
       "3  Jailbirds New Orleans            NaN          2021\n",
       "4           Kota Factory          India          2021"
      ]
     },
     "execution_count": 153,
     "metadata": {},
     "output_type": "execute_result"
    }
   ],
   "source": [
    "df[['title', 'country', 'release_year']].head()"
   ]
  },
  {
   "cell_type": "markdown",
   "id": "3a54ee1c",
   "metadata": {},
   "source": [
    "#### Ejercicio 14: Filtra las columnas que contienen la palabra 'date'."
   ]
  },
  {
   "cell_type": "code",
   "execution_count": 155,
   "id": "fb861526",
   "metadata": {},
   "outputs": [
    {
     "data": {
      "text/html": [
       "<div>\n",
       "<style scoped>\n",
       "    .dataframe tbody tr th:only-of-type {\n",
       "        vertical-align: middle;\n",
       "    }\n",
       "\n",
       "    .dataframe tbody tr th {\n",
       "        vertical-align: top;\n",
       "    }\n",
       "\n",
       "    .dataframe thead th {\n",
       "        text-align: right;\n",
       "    }\n",
       "</style>\n",
       "<table border=\"1\" class=\"dataframe\">\n",
       "  <thead>\n",
       "    <tr style=\"text-align: right;\">\n",
       "      <th></th>\n",
       "      <th>date_added</th>\n",
       "    </tr>\n",
       "  </thead>\n",
       "  <tbody>\n",
       "    <tr>\n",
       "      <th>0</th>\n",
       "      <td>September 25, 2021</td>\n",
       "    </tr>\n",
       "    <tr>\n",
       "      <th>1</th>\n",
       "      <td>September 24, 2021</td>\n",
       "    </tr>\n",
       "    <tr>\n",
       "      <th>2</th>\n",
       "      <td>September 24, 2021</td>\n",
       "    </tr>\n",
       "    <tr>\n",
       "      <th>3</th>\n",
       "      <td>September 24, 2021</td>\n",
       "    </tr>\n",
       "    <tr>\n",
       "      <th>4</th>\n",
       "      <td>September 24, 2021</td>\n",
       "    </tr>\n",
       "  </tbody>\n",
       "</table>\n",
       "</div>"
      ],
      "text/plain": [
       "           date_added\n",
       "0  September 25, 2021\n",
       "1  September 24, 2021\n",
       "2  September 24, 2021\n",
       "3  September 24, 2021\n",
       "4  September 24, 2021"
      ]
     },
     "execution_count": 155,
     "metadata": {},
     "output_type": "execute_result"
    }
   ],
   "source": [
    "df.filter(like = 'date').head()"
   ]
  },
  {
   "cell_type": "markdown",
   "id": "2fdc640c",
   "metadata": {},
   "source": [
    "#### Ejercicio 15: Usando `query()`, filtra todos los títulos del país 'France' con una duración de 80 minutos."
   ]
  },
  {
   "cell_type": "code",
   "execution_count": 159,
   "id": "686daaf5",
   "metadata": {},
   "outputs": [
    {
     "data": {
      "text/html": [
       "<div>\n",
       "<style scoped>\n",
       "    .dataframe tbody tr th:only-of-type {\n",
       "        vertical-align: middle;\n",
       "    }\n",
       "\n",
       "    .dataframe tbody tr th {\n",
       "        vertical-align: top;\n",
       "    }\n",
       "\n",
       "    .dataframe thead th {\n",
       "        text-align: right;\n",
       "    }\n",
       "</style>\n",
       "<table border=\"1\" class=\"dataframe\">\n",
       "  <thead>\n",
       "    <tr style=\"text-align: right;\">\n",
       "      <th></th>\n",
       "      <th>Genre</th>\n",
       "      <th>Runtime</th>\n",
       "      <th>IMDB Score</th>\n",
       "      <th>Language</th>\n",
       "      <th>type</th>\n",
       "      <th>title</th>\n",
       "      <th>director</th>\n",
       "      <th>cast</th>\n",
       "      <th>country</th>\n",
       "      <th>date_added</th>\n",
       "      <th>release_year</th>\n",
       "      <th>rating</th>\n",
       "      <th>duration</th>\n",
       "      <th>listed_in</th>\n",
       "      <th>description</th>\n",
       "    </tr>\n",
       "  </thead>\n",
       "  <tbody>\n",
       "    <tr>\n",
       "      <th>5474</th>\n",
       "      <td>NaN</td>\n",
       "      <td>NaN</td>\n",
       "      <td>NaN</td>\n",
       "      <td>NaN</td>\n",
       "      <td>Movie</td>\n",
       "      <td>Arès</td>\n",
       "      <td>Jean-Patrick Benes</td>\n",
       "      <td>Ola Rapace, Micha Lescot, Thierry Hancisse, Hé...</td>\n",
       "      <td>France</td>\n",
       "      <td>May 23, 2017</td>\n",
       "      <td>2016</td>\n",
       "      <td>TV-MA</td>\n",
       "      <td>80 min</td>\n",
       "      <td>Action &amp; Adventure, International Movies, Sci-...</td>\n",
       "      <td>A futuristic France tries to keep its people f...</td>\n",
       "    </tr>\n",
       "  </tbody>\n",
       "</table>\n",
       "</div>"
      ],
      "text/plain": [
       "     Genre  Runtime  IMDB Score Language   type title            director  \\\n",
       "5474   NaN      NaN         NaN      NaN  Movie  Arès  Jean-Patrick Benes   \n",
       "\n",
       "                                                   cast country    date_added  \\\n",
       "5474  Ola Rapace, Micha Lescot, Thierry Hancisse, Hé...  France  May 23, 2017   \n",
       "\n",
       "      release_year rating duration  \\\n",
       "5474          2016  TV-MA   80 min   \n",
       "\n",
       "                                              listed_in  \\\n",
       "5474  Action & Adventure, International Movies, Sci-...   \n",
       "\n",
       "                                            description  \n",
       "5474  A futuristic France tries to keep its people f...  "
      ]
     },
     "execution_count": 159,
     "metadata": {},
     "output_type": "execute_result"
    }
   ],
   "source": [
    "df.query(f\"country == 'France' and duration == '80 min'\").head()\n",
    "\n",
    "# Solo hay 1"
   ]
  },
  {
   "cell_type": "code",
   "execution_count": 160,
   "id": "7ef2c34d",
   "metadata": {},
   "outputs": [
    {
     "data": {
      "text/html": [
       "<div>\n",
       "<style scoped>\n",
       "    .dataframe tbody tr th:only-of-type {\n",
       "        vertical-align: middle;\n",
       "    }\n",
       "\n",
       "    .dataframe tbody tr th {\n",
       "        vertical-align: top;\n",
       "    }\n",
       "\n",
       "    .dataframe thead th {\n",
       "        text-align: right;\n",
       "    }\n",
       "</style>\n",
       "<table border=\"1\" class=\"dataframe\">\n",
       "  <thead>\n",
       "    <tr style=\"text-align: right;\">\n",
       "      <th></th>\n",
       "      <th>title</th>\n",
       "      <th>country</th>\n",
       "      <th>duration</th>\n",
       "    </tr>\n",
       "  </thead>\n",
       "  <tbody>\n",
       "    <tr>\n",
       "      <th>5474</th>\n",
       "      <td>Arès</td>\n",
       "      <td>France</td>\n",
       "      <td>80 min</td>\n",
       "    </tr>\n",
       "  </tbody>\n",
       "</table>\n",
       "</div>"
      ],
      "text/plain": [
       "     title country duration\n",
       "5474  Arès  France   80 min"
      ]
     },
     "execution_count": 160,
     "metadata": {},
     "output_type": "execute_result"
    }
   ],
   "source": [
    "# Como hemos hecho antes:\n",
    "filtro15 = (df['country'] == 'France') & (df['duration'] == '80 min')\n",
    "\n",
    "df[filtro15][['title', 'country', 'duration']].head()"
   ]
  },
  {
   "cell_type": "markdown",
   "id": "dbcb48d5",
   "metadata": {},
   "source": [
    "#### Ejercicio 16: Filtra los títulos que son películas ('Movie') y fueron lanzados antes de 2010."
   ]
  },
  {
   "cell_type": "code",
   "execution_count": 161,
   "id": "bc49401c",
   "metadata": {},
   "outputs": [
    {
     "data": {
      "text/html": [
       "<div>\n",
       "<style scoped>\n",
       "    .dataframe tbody tr th:only-of-type {\n",
       "        vertical-align: middle;\n",
       "    }\n",
       "\n",
       "    .dataframe tbody tr th {\n",
       "        vertical-align: top;\n",
       "    }\n",
       "\n",
       "    .dataframe thead th {\n",
       "        text-align: right;\n",
       "    }\n",
       "</style>\n",
       "<table border=\"1\" class=\"dataframe\">\n",
       "  <thead>\n",
       "    <tr style=\"text-align: right;\">\n",
       "      <th></th>\n",
       "      <th>title</th>\n",
       "      <th>release_year</th>\n",
       "      <th>type</th>\n",
       "    </tr>\n",
       "  </thead>\n",
       "  <tbody>\n",
       "    <tr>\n",
       "      <th>7</th>\n",
       "      <td>Sankofa</td>\n",
       "      <td>1993</td>\n",
       "      <td>Movie</td>\n",
       "    </tr>\n",
       "    <tr>\n",
       "      <th>22</th>\n",
       "      <td>Avvai Shanmughi</td>\n",
       "      <td>1996</td>\n",
       "      <td>Movie</td>\n",
       "    </tr>\n",
       "    <tr>\n",
       "      <th>24</th>\n",
       "      <td>Jeans</td>\n",
       "      <td>1998</td>\n",
       "      <td>Movie</td>\n",
       "    </tr>\n",
       "    <tr>\n",
       "      <th>26</th>\n",
       "      <td>Minsara Kanavu</td>\n",
       "      <td>1997</td>\n",
       "      <td>Movie</td>\n",
       "    </tr>\n",
       "    <tr>\n",
       "      <th>41</th>\n",
       "      <td>Jaws</td>\n",
       "      <td>1975</td>\n",
       "      <td>Movie</td>\n",
       "    </tr>\n",
       "  </tbody>\n",
       "</table>\n",
       "</div>"
      ],
      "text/plain": [
       "              title  release_year   type\n",
       "7           Sankofa          1993  Movie\n",
       "22  Avvai Shanmughi          1996  Movie\n",
       "24            Jeans          1998  Movie\n",
       "26   Minsara Kanavu          1997  Movie\n",
       "41             Jaws          1975  Movie"
      ]
     },
     "execution_count": 161,
     "metadata": {},
     "output_type": "execute_result"
    }
   ],
   "source": [
    "filtro16 = (df['release_year'] < 2010) & (df['type'] == 'Movie')\n",
    "\n",
    "df[filtro16][['title', 'release_year', 'type']].head()"
   ]
  },
  {
   "cell_type": "markdown",
   "id": "d7ed2fd6",
   "metadata": {},
   "source": [
    "#### Ejercicio 17: Encuentra los 10 títulos con las puntuaciones más altas en IMDb."
   ]
  },
  {
   "cell_type": "code",
   "execution_count": 165,
   "id": "0ca3bb19",
   "metadata": {},
   "outputs": [
    {
     "data": {
      "text/html": [
       "<div>\n",
       "<style scoped>\n",
       "    .dataframe tbody tr th:only-of-type {\n",
       "        vertical-align: middle;\n",
       "    }\n",
       "\n",
       "    .dataframe tbody tr th {\n",
       "        vertical-align: top;\n",
       "    }\n",
       "\n",
       "    .dataframe thead th {\n",
       "        text-align: right;\n",
       "    }\n",
       "</style>\n",
       "<table border=\"1\" class=\"dataframe\">\n",
       "  <thead>\n",
       "    <tr style=\"text-align: right;\">\n",
       "      <th></th>\n",
       "      <th>title</th>\n",
       "      <th>IMDB Score</th>\n",
       "    </tr>\n",
       "  </thead>\n",
       "  <tbody>\n",
       "    <tr>\n",
       "      <th>1886</th>\n",
       "      <td>David Attenborough: A Life on Our Planet</td>\n",
       "      <td>9.0</td>\n",
       "    </tr>\n",
       "    <tr>\n",
       "      <th>4293</th>\n",
       "      <td>Springsteen on Broadway</td>\n",
       "      <td>8.5</td>\n",
       "    </tr>\n",
       "    <tr>\n",
       "      <th>5893</th>\n",
       "      <td>Winter on Fire: Ukraine's Fight for Freedom</td>\n",
       "      <td>8.4</td>\n",
       "    </tr>\n",
       "    <tr>\n",
       "      <th>5152</th>\n",
       "      <td>Cuba and the Cameraman</td>\n",
       "      <td>8.3</td>\n",
       "    </tr>\n",
       "    <tr>\n",
       "      <th>3386</th>\n",
       "      <td>Dancing with the Birds</td>\n",
       "      <td>8.3</td>\n",
       "    </tr>\n",
       "    <tr>\n",
       "      <th>3273</th>\n",
       "      <td>Klaus</td>\n",
       "      <td>8.2</td>\n",
       "    </tr>\n",
       "    <tr>\n",
       "      <th>1857</th>\n",
       "      <td>The Three Deaths of Marisela Escobedo</td>\n",
       "      <td>8.2</td>\n",
       "    </tr>\n",
       "    <tr>\n",
       "      <th>1171</th>\n",
       "      <td>Seaspiracy</td>\n",
       "      <td>8.2</td>\n",
       "    </tr>\n",
       "    <tr>\n",
       "      <th>2097</th>\n",
       "      <td>Rising Phoenix</td>\n",
       "      <td>8.1</td>\n",
       "    </tr>\n",
       "    <tr>\n",
       "      <th>5376</th>\n",
       "      <td>Chasing Coral</td>\n",
       "      <td>8.1</td>\n",
       "    </tr>\n",
       "  </tbody>\n",
       "</table>\n",
       "</div>"
      ],
      "text/plain": [
       "                                            title  IMDB Score\n",
       "1886     David Attenborough: A Life on Our Planet         9.0\n",
       "4293                      Springsteen on Broadway         8.5\n",
       "5893  Winter on Fire: Ukraine's Fight for Freedom         8.4\n",
       "5152                       Cuba and the Cameraman         8.3\n",
       "3386                       Dancing with the Birds         8.3\n",
       "3273                                        Klaus         8.2\n",
       "1857        The Three Deaths of Marisela Escobedo         8.2\n",
       "1171                                   Seaspiracy         8.2\n",
       "2097                               Rising Phoenix         8.1\n",
       "5376                                Chasing Coral         8.1"
      ]
     },
     "execution_count": 165,
     "metadata": {},
     "output_type": "execute_result"
    }
   ],
   "source": [
    "df[['title', 'IMDB Score']].sort_values(by='IMDB Score', ascending=False).head(10)"
   ]
  },
  {
   "cell_type": "markdown",
   "id": "46219613",
   "metadata": {},
   "source": [
    "#### Ejercicio 18: Encuentra los 5 títulos con las puntuaciones más bajas en IMDb."
   ]
  },
  {
   "cell_type": "code",
   "execution_count": 166,
   "id": "546d1ad2",
   "metadata": {},
   "outputs": [
    {
     "data": {
      "text/html": [
       "<div>\n",
       "<style scoped>\n",
       "    .dataframe tbody tr th:only-of-type {\n",
       "        vertical-align: middle;\n",
       "    }\n",
       "\n",
       "    .dataframe tbody tr th {\n",
       "        vertical-align: top;\n",
       "    }\n",
       "\n",
       "    .dataframe thead th {\n",
       "        text-align: right;\n",
       "    }\n",
       "</style>\n",
       "<table border=\"1\" class=\"dataframe\">\n",
       "  <thead>\n",
       "    <tr style=\"text-align: right;\">\n",
       "      <th></th>\n",
       "      <th>title</th>\n",
       "      <th>IMDB Score</th>\n",
       "    </tr>\n",
       "  </thead>\n",
       "  <tbody>\n",
       "    <tr>\n",
       "      <th>3623</th>\n",
       "      <td>Enter the Anime</td>\n",
       "      <td>2.5</td>\n",
       "    </tr>\n",
       "    <tr>\n",
       "      <th>3094</th>\n",
       "      <td>The App</td>\n",
       "      <td>2.6</td>\n",
       "    </tr>\n",
       "    <tr>\n",
       "      <th>2104</th>\n",
       "      <td>Dark Forces</td>\n",
       "      <td>2.6</td>\n",
       "    </tr>\n",
       "    <tr>\n",
       "      <th>5073</th>\n",
       "      <td>The Open House</td>\n",
       "      <td>3.2</td>\n",
       "    </tr>\n",
       "    <tr>\n",
       "      <th>1777</th>\n",
       "      <td>Kaali Khuhi</td>\n",
       "      <td>3.4</td>\n",
       "    </tr>\n",
       "  </tbody>\n",
       "</table>\n",
       "</div>"
      ],
      "text/plain": [
       "                title  IMDB Score\n",
       "3623  Enter the Anime         2.5\n",
       "3094          The App         2.6\n",
       "2104      Dark Forces         2.6\n",
       "5073   The Open House         3.2\n",
       "1777      Kaali Khuhi         3.4"
      ]
     },
     "execution_count": 166,
     "metadata": {},
     "output_type": "execute_result"
    }
   ],
   "source": [
    "df[['title', 'IMDB Score']].sort_values(by='IMDB Score', ascending=True).head(5)"
   ]
  },
  {
   "cell_type": "markdown",
   "id": "3eabf7b5",
   "metadata": {},
   "source": [
    "#### Ejercicio 19: Filtra todos los títulos que no tienen un director asignado (valores nulos en la columna 'director')."
   ]
  },
  {
   "cell_type": "code",
   "execution_count": 172,
   "id": "8790fdaa",
   "metadata": {},
   "outputs": [
    {
     "data": {
      "text/html": [
       "<div>\n",
       "<style scoped>\n",
       "    .dataframe tbody tr th:only-of-type {\n",
       "        vertical-align: middle;\n",
       "    }\n",
       "\n",
       "    .dataframe tbody tr th {\n",
       "        vertical-align: top;\n",
       "    }\n",
       "\n",
       "    .dataframe thead th {\n",
       "        text-align: right;\n",
       "    }\n",
       "</style>\n",
       "<table border=\"1\" class=\"dataframe\">\n",
       "  <thead>\n",
       "    <tr style=\"text-align: right;\">\n",
       "      <th></th>\n",
       "      <th>title</th>\n",
       "      <th>director</th>\n",
       "    </tr>\n",
       "  </thead>\n",
       "  <tbody>\n",
       "    <tr>\n",
       "      <th>1</th>\n",
       "      <td>Blood &amp; Water</td>\n",
       "      <td>NaN</td>\n",
       "    </tr>\n",
       "    <tr>\n",
       "      <th>3</th>\n",
       "      <td>Jailbirds New Orleans</td>\n",
       "      <td>NaN</td>\n",
       "    </tr>\n",
       "    <tr>\n",
       "      <th>4</th>\n",
       "      <td>Kota Factory</td>\n",
       "      <td>NaN</td>\n",
       "    </tr>\n",
       "    <tr>\n",
       "      <th>10</th>\n",
       "      <td>Vendetta: Truth, Lies and The Mafia</td>\n",
       "      <td>NaN</td>\n",
       "    </tr>\n",
       "    <tr>\n",
       "      <th>14</th>\n",
       "      <td>Crime Stories: India Detectives</td>\n",
       "      <td>NaN</td>\n",
       "    </tr>\n",
       "  </tbody>\n",
       "</table>\n",
       "</div>"
      ],
      "text/plain": [
       "                                  title director\n",
       "1                         Blood & Water      NaN\n",
       "3                 Jailbirds New Orleans      NaN\n",
       "4                          Kota Factory      NaN\n",
       "10  Vendetta: Truth, Lies and The Mafia      NaN\n",
       "14      Crime Stories: India Detectives      NaN"
      ]
     },
     "execution_count": 172,
     "metadata": {},
     "output_type": "execute_result"
    }
   ],
   "source": [
    "# No saber el director es df['director'].isna()\n",
    "filtro19 = (df['director'].isna())\n",
    "\n",
    "df[filtro19][['title', 'director']].head()"
   ]
  },
  {
   "cell_type": "code",
   "execution_count": 173,
   "id": "940119a7",
   "metadata": {},
   "outputs": [
    {
     "data": {
      "text/plain": [
       "title       2634\n",
       "director       0\n",
       "dtype: int64"
      ]
     },
     "execution_count": 173,
     "metadata": {},
     "output_type": "execute_result"
    }
   ],
   "source": [
    "df[filtro19][['title', 'director']].count()\n",
    "# Son 2634"
   ]
  },
  {
   "cell_type": "markdown",
   "id": "f4597e27",
   "metadata": {},
   "source": [
    "#### Ejercicio 20: Filtra todos los títulos que tienen información completa en las columnas 'title', 'country' y 'IMDB Score'."
   ]
  },
  {
   "cell_type": "code",
   "execution_count": 192,
   "id": "540ac699",
   "metadata": {},
   "outputs": [
    {
     "name": "stdout",
     "output_type": "stream",
     "text": [
      "<class 'pandas.core.frame.DataFrame'>\n",
      "Index: 499 entries, 0 to 5916\n",
      "Data columns (total 3 columns):\n",
      " #   Column      Non-Null Count  Dtype  \n",
      "---  ------      --------------  -----  \n",
      " 0   title       499 non-null    object \n",
      " 1   country     499 non-null    object \n",
      " 2   IMDB Score  499 non-null    float64\n",
      "dtypes: float64(1), object(2)\n",
      "memory usage: 15.6+ KB\n"
     ]
    }
   ],
   "source": [
    "filtro20 = (df['IMDB Score'].isna() == False) & (df['title'].isna() == False) & (df['country'].isna() == False)\n",
    "# Vemos que efectivamente no hay nulos\n",
    "df[filtro20][['title', 'country', 'IMDB Score']].info()"
   ]
  },
  {
   "cell_type": "markdown",
   "id": "d18a16fe",
   "metadata": {},
   "source": [
    "#### Ejercicio 21: Identifica si hay títulos duplicados en la columna 'title'."
   ]
  },
  {
   "cell_type": "code",
   "execution_count": 196,
   "id": "8b36763b",
   "metadata": {},
   "outputs": [
    {
     "data": {
      "text/plain": [
       "8807"
      ]
     },
     "execution_count": 196,
     "metadata": {},
     "output_type": "execute_result"
    }
   ],
   "source": [
    "# Cantidad de valores\n",
    "df['title'].value_counts().sum()"
   ]
  },
  {
   "cell_type": "code",
   "execution_count": 201,
   "id": "ac9bb012",
   "metadata": {},
   "outputs": [
    {
     "data": {
      "text/plain": [
       "8807"
      ]
     },
     "execution_count": 201,
     "metadata": {},
     "output_type": "execute_result"
    }
   ],
   "source": [
    "# Tamaño del dataframe\n",
    "df['title'].unique().shape[0]"
   ]
  },
  {
   "cell_type": "code",
   "execution_count": 202,
   "id": "43b0d7aa",
   "metadata": {},
   "outputs": [
    {
     "data": {
      "text/plain": [
       "0"
      ]
     },
     "execution_count": 202,
     "metadata": {},
     "output_type": "execute_result"
    }
   ],
   "source": [
    "# Vemos que son iguales pero podemos hacerlo directamente con df.duplicated()\n",
    "df.duplicated(subset = \"title\").sum()"
   ]
  }
 ],
 "metadata": {
  "kernelspec": {
   "display_name": "test",
   "language": "python",
   "name": "python3"
  },
  "language_info": {
   "codemirror_mode": {
    "name": "ipython",
    "version": 3
   },
   "file_extension": ".py",
   "mimetype": "text/x-python",
   "name": "python",
   "nbconvert_exporter": "python",
   "pygments_lexer": "ipython3",
   "version": "3.12.4"
  }
 },
 "nbformat": 4,
 "nbformat_minor": 5
}
