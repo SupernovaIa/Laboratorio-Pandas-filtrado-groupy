{
 "cells": [
  {
   "cell_type": "markdown",
   "id": "0e4a0473",
   "metadata": {},
   "source": [
    "<div style=\"text-align: center;\">\n",
    "  <img src=\"https://github.com/Hack-io-Data/Imagenes/blob/main/01-LogosHackio/logo_naranja@4x.png?raw=true\" alt=\"esquema\" />\n",
    "</div>"
   ]
  },
  {
   "cell_type": "markdown",
   "id": "8d36bc20",
   "metadata": {},
   "source": [
    "# Laboratorio Agrupamiento de Datos\n",
    "\n",
    "En este laboratorio usaremos el DataFrame creado en la lección anterior resultado de la unión de los conjuntos de datos compartidos contigo. \n",
    "\n",
    "**Instrucciones:**\n",
    "\n",
    "1. Lee cuidadosamente el enunciado de cada ejercicio.\n",
    "\n",
    "2. Implementa la solución en la celda de código proporcionada.\n",
    "\n",
    "3. Devuelve los resultados siempre en formato de DataFrame"
   ]
  },
  {
   "cell_type": "code",
   "execution_count": 118,
   "id": "2cb98b81",
   "metadata": {},
   "outputs": [],
   "source": [
    "import pandas as pd\n",
    "import numpy as np\n",
    "\n",
    "pd.set_option('display.max_columns', None) # para poder visualizar todas las columnas de los DataFrames"
   ]
  },
  {
   "cell_type": "code",
   "execution_count": 119,
   "id": "c9ff7beb",
   "metadata": {},
   "outputs": [],
   "source": [
    "# Carga el dataset de trabajo\n",
    "\n",
    "df = pd.read_csv('combined_netflix.csv')\n",
    "df.drop('Unnamed: 0', axis = 1, inplace = True)"
   ]
  },
  {
   "cell_type": "code",
   "execution_count": 120,
   "id": "ba5619df",
   "metadata": {},
   "outputs": [
    {
     "data": {
      "text/html": [
       "<div>\n",
       "<style scoped>\n",
       "    .dataframe tbody tr th:only-of-type {\n",
       "        vertical-align: middle;\n",
       "    }\n",
       "\n",
       "    .dataframe tbody tr th {\n",
       "        vertical-align: top;\n",
       "    }\n",
       "\n",
       "    .dataframe thead th {\n",
       "        text-align: right;\n",
       "    }\n",
       "</style>\n",
       "<table border=\"1\" class=\"dataframe\">\n",
       "  <thead>\n",
       "    <tr style=\"text-align: right;\">\n",
       "      <th></th>\n",
       "      <th>Genre</th>\n",
       "      <th>Runtime</th>\n",
       "      <th>IMDB Score</th>\n",
       "      <th>Language</th>\n",
       "      <th>type</th>\n",
       "      <th>title</th>\n",
       "      <th>director</th>\n",
       "      <th>cast</th>\n",
       "      <th>country</th>\n",
       "      <th>date_added</th>\n",
       "      <th>release_year</th>\n",
       "      <th>rating</th>\n",
       "      <th>duration</th>\n",
       "      <th>listed_in</th>\n",
       "      <th>description</th>\n",
       "    </tr>\n",
       "  </thead>\n",
       "  <tbody>\n",
       "    <tr>\n",
       "      <th>1505</th>\n",
       "      <td>NaN</td>\n",
       "      <td>NaN</td>\n",
       "      <td>NaN</td>\n",
       "      <td>NaN</td>\n",
       "      <td>TV Show</td>\n",
       "      <td>Rhyme Time Town Singalongs</td>\n",
       "      <td>NaN</td>\n",
       "      <td>Luke Amis, Annabelle Westenholz-Smith, Maddie ...</td>\n",
       "      <td>United States</td>\n",
       "      <td>December 22, 2020</td>\n",
       "      <td>2020</td>\n",
       "      <td>TV-Y</td>\n",
       "      <td>NaN</td>\n",
       "      <td>Kids' TV</td>\n",
       "      <td>Love snackable, snap-worthy songs? Sing along ...</td>\n",
       "    </tr>\n",
       "  </tbody>\n",
       "</table>\n",
       "</div>"
      ],
      "text/plain": [
       "     Genre  Runtime  IMDB Score Language     type                       title  \\\n",
       "1505   NaN      NaN         NaN      NaN  TV Show  Rhyme Time Town Singalongs   \n",
       "\n",
       "     director                                               cast  \\\n",
       "1505      NaN  Luke Amis, Annabelle Westenholz-Smith, Maddie ...   \n",
       "\n",
       "            country         date_added  release_year rating duration  \\\n",
       "1505  United States  December 22, 2020          2020   TV-Y      NaN   \n",
       "\n",
       "     listed_in                                        description  \n",
       "1505  Kids' TV  Love snackable, snap-worthy songs? Sing along ...  "
      ]
     },
     "execution_count": 120,
     "metadata": {},
     "output_type": "execute_result"
    }
   ],
   "source": [
    "df.sample()"
   ]
  },
  {
   "cell_type": "markdown",
   "id": "cb06a7b4",
   "metadata": {},
   "source": [
    "#### Ejercicio 1: ¿Cuántos títulos hay por cada tipo de contenido ('Movie' o 'TV Show')?"
   ]
  },
  {
   "cell_type": "code",
   "execution_count": 13,
   "id": "60cb155f",
   "metadata": {},
   "outputs": [
    {
     "data": {
      "text/plain": [
       "type\n",
       "Movie      59629\n",
       "TV Show    21376\n",
       "dtype: int64"
      ]
     },
     "execution_count": 13,
     "metadata": {},
     "output_type": "execute_result"
    }
   ],
   "source": [
    "df.groupby('type').count().T.sum()"
   ]
  },
  {
   "cell_type": "markdown",
   "id": "b956d726",
   "metadata": {},
   "source": [
    "#### Ejercicio 2: ¿Cuál es el promedio de puntuación de las películas agrupadas por clasificación de audiencia ('rating')? Interpreta los resultados, ¿hay algo que te llame la atención? Explica por qué. "
   ]
  },
  {
   "cell_type": "code",
   "execution_count": 19,
   "id": "c96f3f3c",
   "metadata": {},
   "outputs": [
    {
     "data": {
      "text/plain": [
       "rating\n",
       "66 min           NaN\n",
       "74 min           NaN\n",
       "84 min           NaN\n",
       "G           6.500000\n",
       "NC-17            NaN\n",
       "NR               NaN\n",
       "PG          6.800000\n",
       "PG-13       6.386957\n",
       "R           6.495745\n",
       "TV-14       6.177660\n",
       "TV-G        6.156250\n",
       "TV-MA       6.097638\n",
       "TV-PG       6.308772\n",
       "TV-Y        6.780000\n",
       "TV-Y7       6.240000\n",
       "TV-Y7-FV         NaN\n",
       "UR               NaN\n",
       "Name: IMDB Score, dtype: float64"
      ]
     },
     "execution_count": 19,
     "metadata": {},
     "output_type": "execute_result"
    }
   ],
   "source": [
    "df.groupby('rating')['IMDB Score'].mean()"
   ]
  },
  {
   "cell_type": "markdown",
   "id": "62bc0858",
   "metadata": {},
   "source": [
    "Existen 'rating' que tienen formato de duración, por lo que no tienen sentido. Además, algunas de las categorías tienen un promedio de NaN, por lo que procedemos a limpiar los valores nulos."
   ]
  },
  {
   "cell_type": "code",
   "execution_count": 123,
   "id": "2c4ce9e4",
   "metadata": {},
   "outputs": [],
   "source": [
    "filtro = (df['IMDB Score'].isna() == False)\n",
    "df_scored = df[filtro]"
   ]
  },
  {
   "cell_type": "code",
   "execution_count": 124,
   "id": "416c0731",
   "metadata": {},
   "outputs": [
    {
     "data": {
      "text/plain": [
       "rating\n",
       "G        6.500000\n",
       "PG       6.800000\n",
       "PG-13    6.386957\n",
       "R        6.495745\n",
       "TV-14    6.177660\n",
       "TV-G     6.156250\n",
       "TV-MA    6.097638\n",
       "TV-PG    6.308772\n",
       "TV-Y     6.780000\n",
       "TV-Y7    6.240000\n",
       "Name: IMDB Score, dtype: float64"
      ]
     },
     "execution_count": 124,
     "metadata": {},
     "output_type": "execute_result"
    }
   ],
   "source": [
    "df_scored.groupby('rating')['IMDB Score'].mean()"
   ]
  },
  {
   "cell_type": "markdown",
   "id": "d06d963e",
   "metadata": {},
   "source": [
    "Ahora vemos que las puntuaciones tienen sentido y son bastante homogéneas"
   ]
  },
  {
   "cell_type": "markdown",
   "id": "f236954f",
   "metadata": {},
   "source": [
    "#### Ejercicio 3: ¿Cuántos títulos hay por cada país? Ordena los resultados de mayor a menor"
   ]
  },
  {
   "cell_type": "code",
   "execution_count": 125,
   "id": "1d6b8695",
   "metadata": {},
   "outputs": [
    {
     "data": {
      "text/plain": [
       "country\n",
       "United States                                                                          2818\n",
       "India                                                                                   972\n",
       "United Kingdom                                                                          419\n",
       "Japan                                                                                   245\n",
       "South Korea                                                                             199\n",
       "                                                                                       ... \n",
       "Ireland, Canada, Luxembourg, United States, United Kingdom, Philippines, India            1\n",
       "Ireland, Canada, United Kingdom, United States                                            1\n",
       "Ireland, Canada, United States, United Kingdom                                            1\n",
       "Ireland, France, Iceland, United States, Mexico, Belgium, United Kingdom, Hong Kong       1\n",
       "Zimbabwe                                                                                  1\n",
       "Name: title, Length: 748, dtype: int64"
      ]
     },
     "execution_count": 125,
     "metadata": {},
     "output_type": "execute_result"
    }
   ],
   "source": [
    "df.groupby('country')['title'].count().sort_values(ascending=False)"
   ]
  },
  {
   "cell_type": "markdown",
   "id": "a49712a3",
   "metadata": {},
   "source": [
    "#### Ejercicio 4: ¿Cuál es la calificación promedio en IMDb de los títulos agrupados por tipo ('Movie' o 'TV Show')?"
   ]
  },
  {
   "cell_type": "code",
   "execution_count": 126,
   "id": "564e953f",
   "metadata": {},
   "outputs": [
    {
     "data": {
      "text/plain": [
       "type\n",
       "Movie      6.210916\n",
       "TV Show         NaN\n",
       "Name: IMDB Score, dtype: float64"
      ]
     },
     "execution_count": 126,
     "metadata": {},
     "output_type": "execute_result"
    }
   ],
   "source": [
    "df.groupby('type')['IMDB Score'].mean()"
   ]
  },
  {
   "cell_type": "code",
   "execution_count": 52,
   "id": "470fc955",
   "metadata": {},
   "outputs": [
    {
     "data": {
      "text/plain": [
       "type\n",
       "Movie    6.210916\n",
       "Name: IMDB Score, dtype: float64"
      ]
     },
     "execution_count": 52,
     "metadata": {},
     "output_type": "execute_result"
    }
   ],
   "source": [
    "# Vamos a probar a limpiar los nulos\n",
    "filtro_score = (df['IMDB Score'].isna() == False)\n",
    "# Vemos que efectivamente no hay nulos\n",
    "df[filtro_score].groupby('type')['IMDB Score'].mean()"
   ]
  },
  {
   "cell_type": "markdown",
   "id": "43f05607",
   "metadata": {},
   "source": [
    "El promedio de Movies es 6.210916"
   ]
  },
  {
   "cell_type": "code",
   "execution_count": 56,
   "id": "6789baa3",
   "metadata": {},
   "outputs": [
    {
     "name": "stdout",
     "output_type": "stream",
     "text": [
      "<class 'pandas.core.series.Series'>\n",
      "Index: 2676 entries, 1 to 8803\n",
      "Series name: IMDB Score\n",
      "Non-Null Count  Dtype  \n",
      "--------------  -----  \n",
      "0 non-null      float64\n",
      "dtypes: float64(1)\n",
      "memory usage: 41.8 KB\n"
     ]
    }
   ],
   "source": [
    "# Vemos que en TV Show solo hay nulos\n",
    "df[df['type'] == 'TV Show']['IMDB Score'].info()"
   ]
  },
  {
   "cell_type": "markdown",
   "id": "4eac1036",
   "metadata": {},
   "source": [
    "#### Ejercicio 5: ¿Cuántos títulos se añadieron a Netflix cada año? Para resolver este ejercicio tendrás que convertir la columna `date_added` a formato fecha usando el método `pd.to_datetime`. [Aquí](https://pandas.pydata.org/docs/reference/api/pandas.to_datetime.html) tienes la documentación, leeala con detenimiento antes de usar el método. "
   ]
  },
  {
   "cell_type": "code",
   "execution_count": 66,
   "id": "304cc8a0",
   "metadata": {},
   "outputs": [],
   "source": [
    "# Añadimos .strip() para eliminar espacios que dan problemas\n",
    "df['date_added'] = pd.to_datetime(df['date_added'].str.strip(), format='%B %d, %Y')"
   ]
  },
  {
   "cell_type": "code",
   "execution_count": 73,
   "id": "d7885f70",
   "metadata": {},
   "outputs": [
    {
     "data": {
      "text/plain": [
       "date_added\n",
       "2008.0       2\n",
       "2009.0       2\n",
       "2010.0       1\n",
       "2011.0      13\n",
       "2012.0       3\n",
       "2013.0      11\n",
       "2014.0      24\n",
       "2015.0      82\n",
       "2016.0     429\n",
       "2017.0    1188\n",
       "2018.0    1649\n",
       "2019.0    2016\n",
       "2020.0    1879\n",
       "2021.0    1498\n",
       "Name: title, dtype: int64"
      ]
     },
     "execution_count": 73,
     "metadata": {},
     "output_type": "execute_result"
    }
   ],
   "source": [
    "df.groupby(df['date_added'].dt.year)['title'].count()"
   ]
  },
  {
   "cell_type": "markdown",
   "id": "ddd1d9b9",
   "metadata": {},
   "source": [
    "#### Ejercicio 6: ¿Cuál es el país con más títulos lanzados en el año 2020? Para resolver este ejercicio después del gropuby os puede resultar interesante el método [`idxmax`](https://pandas.pydata.org/docs/reference/api/pandas.DataFrame.idxmax.html)"
   ]
  },
  {
   "cell_type": "code",
   "execution_count": 84,
   "id": "0d914739",
   "metadata": {},
   "outputs": [
    {
     "data": {
      "text/plain": [
       "'United States'"
      ]
     },
     "execution_count": 84,
     "metadata": {},
     "output_type": "execute_result"
    }
   ],
   "source": [
    "# Filtramos los datos por solo 200 y contamos la cantidad de títulos agrupado por países\n",
    "# Hacemos .idxmax() para obtener el país del máximo\n",
    "df[df['release_year'] == 2020].groupby('country')['title'].count().idxmax()"
   ]
  },
  {
   "cell_type": "markdown",
   "id": "b5e05d91",
   "metadata": {},
   "source": [
    "#### Ejercicio 7:¿Cuál es el promedio de puntuación en IMDb de los títulos agrupados por país?"
   ]
  },
  {
   "cell_type": "code",
   "execution_count": 96,
   "id": "51c46210",
   "metadata": {},
   "outputs": [
    {
     "data": {
      "text/plain": [
       "country\n",
       "Argentina                                 6.420000\n",
       "Australia, United States                  7.600000\n",
       "Austria                                   6.850000\n",
       "Belgium, Netherlands                      7.100000\n",
       "Belgium, United Kingdom, United States    5.300000\n",
       "                                            ...   \n",
       "United States, Mexico                     5.666667\n",
       "United States, United Kingdom             8.200000\n",
       "United States, United Kingdom, Canada     6.700000\n",
       "United States, United Kingdom, Germany    6.600000\n",
       "United States, United Kingdom, India      7.800000\n",
       "Name: IMDB Score, Length: 81, dtype: float64"
      ]
     },
     "execution_count": 96,
     "metadata": {},
     "output_type": "execute_result"
    }
   ],
   "source": [
    "# Voy a usar el dataframe con los datos filtrados por países\n",
    "df_scored.groupby('country')['IMDB Score'].mean()"
   ]
  },
  {
   "cell_type": "markdown",
   "id": "43634c81",
   "metadata": {},
   "source": [
    "#### Ejercicio 8: ¿Cuántos títulos fueron lanzados en cada año agrupados por tipo ('Movie' o 'TV Show')?"
   ]
  },
  {
   "cell_type": "code",
   "execution_count": 98,
   "id": "d14840b1",
   "metadata": {},
   "outputs": [
    {
     "data": {
      "text/plain": [
       "type     release_year\n",
       "Movie    1942              2\n",
       "         1943              3\n",
       "         1944              3\n",
       "         1945              3\n",
       "         1946              1\n",
       "                        ... \n",
       "TV Show  2017            265\n",
       "         2018            380\n",
       "         2019            397\n",
       "         2020            436\n",
       "         2021            315\n",
       "Name: title, Length: 119, dtype: int64"
      ]
     },
     "execution_count": 98,
     "metadata": {},
     "output_type": "execute_result"
    }
   ],
   "source": [
    "# Agrupamos primero por tipo y luego por año de lanzamiento, contamos los títulos\n",
    "df.groupby(['type', 'release_year'])['title'].count()"
   ]
  },
  {
   "cell_type": "markdown",
   "id": "4fc8e1d3",
   "metadata": {},
   "source": [
    "#### Ejercicio 9: ¿Cuál es el país con la mayor cantidad de títulos de clasificación 'TV-MA'?"
   ]
  },
  {
   "cell_type": "code",
   "execution_count": 100,
   "id": "a9a2d175",
   "metadata": {},
   "outputs": [
    {
     "data": {
      "text/plain": [
       "'United States'"
      ]
     },
     "execution_count": 100,
     "metadata": {},
     "output_type": "execute_result"
    }
   ],
   "source": [
    "# Filtramos los datos a TV-MA, agrupamos por país y contamos los títulos\n",
    "# Hacemos .idxmax() para obtener el país del máximo\n",
    "df[df['rating'] == 'TV-MA'].groupby('country')['title'].count().idxmax()"
   ]
  },
  {
   "cell_type": "markdown",
   "id": "f1121ccd",
   "metadata": {},
   "source": [
    "#### Ejercicio 10. ¿Cuál es el promedio de duración de las películas agrupadas por país?"
   ]
  },
  {
   "cell_type": "code",
   "execution_count": 108,
   "id": "06491396",
   "metadata": {},
   "outputs": [
    {
     "data": {
      "text/plain": [
       "country\n",
       "Argentina                                 6.420000\n",
       "Australia, United States                  7.600000\n",
       "Austria                                   6.850000\n",
       "Belgium, Netherlands                      7.100000\n",
       "Belgium, United Kingdom, United States    5.300000\n",
       "                                            ...   \n",
       "United States, Mexico                     5.666667\n",
       "United States, United Kingdom             8.200000\n",
       "United States, United Kingdom, Canada     6.700000\n",
       "United States, United Kingdom, Germany    6.600000\n",
       "United States, United Kingdom, India      7.800000\n",
       "Name: IMDB Score, Length: 81, dtype: float64"
      ]
     },
     "execution_count": 108,
     "metadata": {},
     "output_type": "execute_result"
    }
   ],
   "source": [
    "# Aprovechamos el dataframe con la puntuación filtrada\n",
    "df_scored.groupby('country')['IMDB Score'].mean()"
   ]
  },
  {
   "cell_type": "markdown",
   "id": "0f3ee373",
   "metadata": {},
   "source": [
    "#### Ejercicio 11: ¿Cuál es el número total de títulos por país y clasificación de audiencia ('rating')?"
   ]
  },
  {
   "cell_type": "code",
   "execution_count": 127,
   "id": "7aedec7c",
   "metadata": {},
   "outputs": [],
   "source": [
    "# Limpio todo el dataframe\n",
    "# Quito los NaN y XX min de rating (los buenos son los únicos que contienen A-Z)\n",
    "filtro_rating = df['rating'].str.contains(r'[A-Z]', na=False)\n",
    "# Lo guardo aquí\n",
    "df_clean = df[(filtro_rating)]"
   ]
  },
  {
   "cell_type": "code",
   "execution_count": 128,
   "id": "8fe17c56",
   "metadata": {},
   "outputs": [
    {
     "data": {
      "text/plain": [
       "country            rating\n",
       ", France, Algeria  TV-14     1\n",
       ", South Korea      TV-MA     1\n",
       "Argentina          NR        2\n",
       "                   R         1\n",
       "                   TV-14     7\n",
       "                            ..\n",
       "Vietnam            TV-14     3\n",
       "                   TV-G      1\n",
       "                   TV-MA     3\n",
       "West Germany       TV-MA     1\n",
       "Zimbabwe           TV-G      1\n",
       "Name: title, Length: 1172, dtype: int64"
      ]
     },
     "execution_count": 128,
     "metadata": {},
     "output_type": "execute_result"
    }
   ],
   "source": [
    "df_clean.groupby(['country', 'rating'])['title'].count()"
   ]
  },
  {
   "cell_type": "code",
   "execution_count": 129,
   "id": "26bad1c6",
   "metadata": {},
   "outputs": [
    {
     "data": {
      "text/plain": [
       "rating    country                                                        \n",
       "G         Canada                                                             1\n",
       "          Canada, Japan, United States                                       1\n",
       "          France, Switzerland, Spain, United States, United Arab Emirates    1\n",
       "          Germany, United States                                             1\n",
       "          Ireland, United Kingdom, United States                             1\n",
       "                                                                            ..\n",
       "TV-Y7-FV  United States                                                      1\n",
       "          United States, Italy                                               1\n",
       "UR        France                                                             1\n",
       "          United Kingdom, France                                             1\n",
       "          United States                                                      1\n",
       "Name: title, Length: 1172, dtype: int64"
      ]
     },
     "execution_count": 129,
     "metadata": {},
     "output_type": "execute_result"
    }
   ],
   "source": [
    "df_clean.groupby(['country', 'rating'][::-1])['title'].count()"
   ]
  },
  {
   "cell_type": "markdown",
   "id": "e968d41f",
   "metadata": {},
   "source": [
    "#### Ejercicio 12: ¿Cuántos títulos fueron lanzados antes del año 2000 agrupados por país?"
   ]
  },
  {
   "cell_type": "code",
   "execution_count": 130,
   "id": "09e77e41",
   "metadata": {},
   "outputs": [
    {
     "data": {
      "text/plain": [
       "country\n",
       "Argentina                        3\n",
       "Argentina, Spain                 1\n",
       "Australia                        4\n",
       "Australia, United Kingdom        1\n",
       "Australia, United States         2\n",
       "                                ..\n",
       "United States, Japan             1\n",
       "United States, Mexico            3\n",
       "United States, New Zealand       1\n",
       "United States, United Kingdom    6\n",
       "West Germany                     1\n",
       "Name: title, Length: 65, dtype: int64"
      ]
     },
     "execution_count": 130,
     "metadata": {},
     "output_type": "execute_result"
    }
   ],
   "source": [
    "df[df['release_year'] < 2000].groupby('country')['title'].count()"
   ]
  },
  {
   "cell_type": "markdown",
   "id": "3feff0de",
   "metadata": {},
   "source": [
    "#### Ejercicio 13: ¿Cuál es la puntuación promedio en IMDb de los títulos lanzados en 2021 agrupados por país?"
   ]
  },
  {
   "cell_type": "code",
   "execution_count": 131,
   "id": "06e047e9",
   "metadata": {},
   "outputs": [
    {
     "data": {
      "text/plain": [
       "country\n",
       "Belgium, Netherlands             7.100000\n",
       "Brazil                           5.900000\n",
       "France                           4.866667\n",
       "France, United States            6.500000\n",
       "Hungary, United States           5.400000\n",
       "India                            5.983333\n",
       "India, United States             7.100000\n",
       "Indonesia                        5.833333\n",
       "Italy                            5.950000\n",
       "Japan                            5.500000\n",
       "Netherlands                      4.500000\n",
       "Poland                           5.000000\n",
       "South Africa                     5.800000\n",
       "South Korea                      5.866667\n",
       "Spain                            6.400000\n",
       "Sweden                           5.500000\n",
       "Thailand                         5.200000\n",
       "Turkey                           6.400000\n",
       "United Kingdom                   7.100000\n",
       "United Kingdom, United States    6.300000\n",
       "United States                    6.276471\n",
       "Name: IMDB Score, dtype: float64"
      ]
     },
     "execution_count": 131,
     "metadata": {},
     "output_type": "execute_result"
    }
   ],
   "source": [
    "# Vamos a limpiar los nulos\n",
    "filtro_score = (df['IMDB Score'].isna() == False)\n",
    "filtro_año = df['release_year'] == 2021\n",
    "\n",
    "df[filtro_score & filtro_año].groupby('country')['IMDB Score'].mean()"
   ]
  },
  {
   "cell_type": "markdown",
   "id": "b598a9ee",
   "metadata": {},
   "source": [
    "#### Ejercicio 14: ¿Cuántos títulos fueron dirigidos por cada director? Ordena los resultados de mayor a menor"
   ]
  },
  {
   "cell_type": "code",
   "execution_count": 133,
   "id": "a36c5d63",
   "metadata": {},
   "outputs": [
    {
     "data": {
      "text/plain": [
       "director\n",
       "Rajiv Chilaka                            19\n",
       "Raúl Campos, Jan Suter                   18\n",
       "Suhas Kadav                              16\n",
       "Marcus Raboy                             16\n",
       "Jay Karas                                14\n",
       "                                         ..\n",
       "Jos Humphrey                              1\n",
       "Jose Gomez                                1\n",
       "Jose Javier Reyes                         1\n",
       "Joseduardo Giordano, Sergio Goyri Jr.     1\n",
       "Khaled Youssef                            1\n",
       "Name: title, Length: 4528, dtype: int64"
      ]
     },
     "execution_count": 133,
     "metadata": {},
     "output_type": "execute_result"
    }
   ],
   "source": [
    "df.groupby('director')['title'].count().sort_values(ascending=False)"
   ]
  },
  {
   "cell_type": "markdown",
   "id": "1471f841",
   "metadata": {},
   "source": [
    "#### Ejercicio 15: ¿Cuál es el lenguaje más frecuente en los títulos lanzados en los últimos 5 años agrupado por país?"
   ]
  },
  {
   "cell_type": "code",
   "execution_count": 145,
   "id": "15f51fe1",
   "metadata": {},
   "outputs": [
    {
     "data": {
      "text/plain": [
       "country                               Language \n",
       "United States                         English      142\n",
       "India                                 Hindi         25\n",
       "France                                French        11\n",
       "Italy                                 Italian       11\n",
       "Spain                                 Spanish        9\n",
       "                                                  ... \n",
       "Norway                                Norwegian      1\n",
       "Pakistan, United States               English        1\n",
       "Austria                               German         1\n",
       "Philippines, United States            Filipino       1\n",
       "United States, United Kingdom, India  English        1\n",
       "Name: title, Length: 72, dtype: int64"
      ]
     },
     "execution_count": 145,
     "metadata": {},
     "output_type": "execute_result"
    }
   ],
   "source": [
    "df[df['release_year'] > 2018].groupby(['country', 'Language'])['title'].count().sort_values(ascending=False)"
   ]
  }
 ],
 "metadata": {
  "kernelspec": {
   "display_name": "test",
   "language": "python",
   "name": "python3"
  },
  "language_info": {
   "codemirror_mode": {
    "name": "ipython",
    "version": 3
   },
   "file_extension": ".py",
   "mimetype": "text/x-python",
   "name": "python",
   "nbconvert_exporter": "python",
   "pygments_lexer": "ipython3",
   "version": "3.12.4"
  }
 },
 "nbformat": 4,
 "nbformat_minor": 5
}
